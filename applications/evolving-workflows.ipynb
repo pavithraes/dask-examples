{
 "cells": [
  {
   "cell_type": "markdown",
   "metadata": {},
   "source": [
    "Handle Evolving Workflows\n",
    "=========================\n",
    "\n",
    "For some workflows we don't know the extent of the computation at the outset.  We need to do some computation in order to figure out the rest of the computation that we need to do.  The computation grows and evolves as we do more work.\n",
    "\n",
    "As an example, consider a situation where you need to read many files and then based on the contents of those files, fire off additional work.  You would like to read the files in parallel, and then within each file expose more parallelism.\n",
    "\n",
    "This example goes through three ways to handle this situation using [Dask Futures](https://docs.dask.org/en/latest/futures.html)\n",
    "\n",
    "1.  Using `as_completed`\n",
    "2.  Using `async/await`\n",
    "3.  Launching tasks from tasks\n",
    "\n",
    "But first, lets run our code sequentially."
   ]
  },
  {
   "cell_type": "markdown",
   "metadata": {},
   "source": [
    "0: Sequential code\n",
    "------------------"
   ]
  },
  {
   "cell_type": "code",
   "execution_count": 1,
   "metadata": {
    "execution": {
     "iopub.execute_input": "2021-01-06T10:07:16.502526Z",
     "iopub.status.busy": "2021-01-06T10:07:16.502056Z",
     "iopub.status.idle": "2021-01-06T10:07:16.515213Z",
     "shell.execute_reply": "2021-01-06T10:07:16.515635Z"
    }
   },
   "outputs": [
    {
     "data": {
      "text/plain": [
       "['file.0.txt', 'file.1.txt', 'file.2.txt']"
      ]
     },
     "execution_count": 1,
     "metadata": {},
     "output_type": "execute_result"
    }
   ],
   "source": [
    "filenames = [\"file.{}.txt\".format(i) for i in range(10)]\n",
    "\n",
    "filenames[:3]"
   ]
  },
  {
   "cell_type": "code",
   "execution_count": 2,
   "metadata": {
    "execution": {
     "iopub.execute_input": "2021-01-06T10:07:16.521384Z",
     "iopub.status.busy": "2021-01-06T10:07:16.520357Z",
     "iopub.status.idle": "2021-01-06T10:07:16.521887Z",
     "shell.execute_reply": "2021-01-06T10:07:16.522368Z"
    }
   },
   "outputs": [],
   "source": [
    "import random, time\n",
    "\n",
    "\n",
    "def parse_file(fn: str) -> list:\n",
    "    \"\"\" Returns a list work items of unknown length \"\"\"\n",
    "    time.sleep(random.random())\n",
    "    return [random.random() for _ in range(random.randint(1, 10))]\n",
    "\n",
    "def process_item(x: float):\n",
    "    \"\"\" Process each work item \"\"\"\n",
    "    time.sleep(random.random() / 4)\n",
    "    return x + 1"
   ]
  },
  {
   "cell_type": "code",
   "execution_count": 3,
   "metadata": {
    "execution": {
     "iopub.execute_input": "2021-01-06T10:07:16.526343Z",
     "iopub.status.busy": "2021-01-06T10:07:16.525880Z",
     "iopub.status.idle": "2021-01-06T10:07:30.606040Z",
     "shell.execute_reply": "2021-01-06T10:07:30.605423Z"
    }
   },
   "outputs": [
    {
     "name": "stdout",
     "output_type": "stream",
     "text": [
      "CPU times: user 6.6 ms, sys: 993 µs, total: 7.59 ms\n",
      "Wall time: 14.1 s\n"
     ]
    }
   ],
   "source": [
    "%%time\n",
    "\n",
    "# This takes around 10-20s\n",
    "\n",
    "results = []\n",
    "\n",
    "for fn in filenames:\n",
    "    L = parse_file(fn)\n",
    "    for x in L:\n",
    "        out = process_item(x)\n",
    "        results.append(out)"
   ]
  },
  {
   "cell_type": "markdown",
   "metadata": {},
   "source": [
    "Start Dask Client\n",
    "-----------------\n",
    "\n",
    "We'll need a Dask client in order to manage dynamic workloads"
   ]
  },
  {
   "cell_type": "code",
   "execution_count": 4,
   "metadata": {
    "execution": {
     "iopub.execute_input": "2021-01-06T10:07:30.609885Z",
     "iopub.status.busy": "2021-01-06T10:07:30.609472Z",
     "iopub.status.idle": "2021-01-06T10:07:31.457936Z",
     "shell.execute_reply": "2021-01-06T10:07:31.457392Z"
    }
   },
   "outputs": [
    {
     "data": {
      "text/html": [
       "<table style=\"border: 2px solid white;\">\n",
       "<tr>\n",
       "<td style=\"vertical-align: top; border: 0px solid white\">\n",
       "<h3 style=\"text-align: left;\">Client</h3>\n",
       "<ul style=\"text-align: left; list-style: none; margin: 0; padding: 0;\">\n",
       "  <li><b>Scheduler: </b>inproc://10.1.0.4/6933/1</li>\n",
       "  <li><b>Dashboard: </b><a href='http://10.1.0.4:8787/status' target='_blank'>http://10.1.0.4:8787/status</a></li>\n",
       "</ul>\n",
       "</td>\n",
       "<td style=\"vertical-align: top; border: 0px solid white\">\n",
       "<h3 style=\"text-align: left;\">Cluster</h3>\n",
       "<ul style=\"text-align: left; list-style:none; margin: 0; padding: 0;\">\n",
       "  <li><b>Workers: </b>1</li>\n",
       "  <li><b>Cores: </b>6</li>\n",
       "  <li><b>Memory: </b>7.29 GB</li>\n",
       "</ul>\n",
       "</td>\n",
       "</tr>\n",
       "</table>"
      ],
      "text/plain": [
       "<Client: 'inproc://10.1.0.4/6933/1' processes=1 threads=6, memory=7.29 GB>"
      ]
     },
     "execution_count": 1,
     "metadata": {},
     "output_type": "execute_result"
    }
   ],
   "source": [
    "from dask.distributed import Client\n",
    "\n",
    "client = Client(processes=False, n_workers=1, threads_per_worker=6)\n",
    "client"
   ]
  },
  {
   "cell_type": "markdown",
   "metadata": {},
   "source": [
    "1: Use as_completed\n",
    "-------------------\n",
    "\n",
    "The [as_completed](https://docs.dask.org/en/latest/futures.html#distributed.as_completed) iterator lets us handle futures as they complete.  We can then submit more data on the fly.\n",
    "\n",
    "-   We submit a task for each of our filenames\n",
    "-   We also compute the length of each of the returned lists\n",
    "-   As those lengths return, we submit off a new task to get each item of that list.  We do this at higher priority, so that we process existing data before we collect new data.\n",
    "-   We wait on all of the returned results"
   ]
  },
  {
   "cell_type": "code",
   "execution_count": 5,
   "metadata": {
    "execution": {
     "iopub.execute_input": "2021-01-06T10:07:31.466062Z",
     "iopub.status.busy": "2021-01-06T10:07:31.463646Z",
     "iopub.status.idle": "2021-01-06T10:07:33.542990Z",
     "shell.execute_reply": "2021-01-06T10:07:33.542611Z"
    }
   },
   "outputs": [
    {
     "name": "stdout",
     "output_type": "stream",
     "text": [
      "CPU times: user 280 ms, sys: 25.1 ms, total: 305 ms\n",
      "Wall time: 2.07 s\n"
     ]
    },
    {
     "data": {
      "text/plain": [
       "[1.0108208156172729,\n",
       " 1.4028079381908338,\n",
       " 1.3680389559198711,\n",
       " 1.5606139629607312,\n",
       " 1.8851528265197697,\n",
       " 1.1382623752603254,\n",
       " 1.7934055016997283,\n",
       " 1.0123766407401984,\n",
       " 1.4782979060403183,\n",
       " 1.6903411676739015,\n",
       " 1.0339667575887992,\n",
       " 1.1752848907922653,\n",
       " 1.1199868510277393,\n",
       " 1.436194388626657,\n",
       " 1.4619950521158218,\n",
       " 1.5597942769407565,\n",
       " 1.3267173001593195,\n",
       " 1.4621661930386503,\n",
       " 1.8090596077542926,\n",
       " 1.961455575499399,\n",
       " 1.754216339480485,\n",
       " 1.9144561737772818,\n",
       " 1.9046623579825175,\n",
       " 1.8699094238212481,\n",
       " 1.2743643422983577,\n",
       " 1.3989353640916415,\n",
       " 1.403607109747145,\n",
       " 1.0040463818791014,\n",
       " 1.494709826489447,\n",
       " 1.950032848033293,\n",
       " 1.4548324956210976,\n",
       " 1.2565447804998922,\n",
       " 1.0081768656447234,\n",
       " 1.8543879317237177,\n",
       " 1.9223064619607926,\n",
       " 1.3377923377067167,\n",
       " 1.0745248479955496,\n",
       " 1.3912466125569627,\n",
       " 1.45770450783848,\n",
       " 1.788503848991324,\n",
       " 1.091231562611234,\n",
       " 1.1229814023427125,\n",
       " 1.950237030540766,\n",
       " 1.2422520294833113,\n",
       " 1.1118872874653507,\n",
       " 1.2376542515182556,\n",
       " 1.4568873993193951,\n",
       " 1.1818302980183195,\n",
       " 1.1832707161053984,\n",
       " 1.9878369544912058,\n",
       " 1.3817587696263822,\n",
       " 1.7473549154964376,\n",
       " 1.9785003587615093,\n",
       " 1.67734633005542,\n",
       " 1.3742526143808067,\n",
       " 1.6265296607299953,\n",
       " 1.0500454294651709,\n",
       " 1.8631211391021516,\n",
       " 1.6239627745764897,\n",
       " 1.4524132546095492,\n",
       " 1.19569478833434,\n",
       " 1.8384968273060847]"
      ]
     },
     "execution_count": 1,
     "metadata": {},
     "output_type": "execute_result"
    }
   ],
   "source": [
    "%%time\n",
    "\n",
    "from dask.distributed import as_completed\n",
    "import operator\n",
    "\n",
    "lists = client.map(parse_file, filenames, pure=False)\n",
    "lengths = client.map(len, lists)\n",
    "\n",
    "mapping = dict(zip(lengths, lists))\n",
    "\n",
    "futures = []\n",
    "\n",
    "for future in as_completed(lengths):\n",
    "    n = future.result()\n",
    "    L = mapping[future]\n",
    "    for i in range(n):\n",
    "        new = client.submit(operator.getitem, L, i, priority=1)\n",
    "        new = client.submit(process_item, new, priority=1)\n",
    "        futures.append(new)\n",
    "        \n",
    "client.gather(futures)"
   ]
  },
  {
   "cell_type": "markdown",
   "metadata": {},
   "source": [
    "2: Use async/await to handle single file processing locally\n",
    "-----------------------------------------------------------\n",
    "\n",
    "We can also handle the concurrency here within our local process.  This requires you to understand async/await syntax, but is generally powerful and arguably simpler than the `as_completed` approach above."
   ]
  },
  {
   "cell_type": "code",
   "execution_count": 6,
   "metadata": {
    "execution": {
     "iopub.execute_input": "2021-01-06T10:07:33.549254Z",
     "iopub.status.busy": "2021-01-06T10:07:33.548223Z",
     "iopub.status.idle": "2021-01-06T10:07:33.549771Z",
     "shell.execute_reply": "2021-01-06T10:07:33.550255Z"
    }
   },
   "outputs": [],
   "source": [
    "import asyncio\n",
    "\n",
    "async def f(fn):\n",
    "    \"\"\" Handle the lifecycle of a single file \"\"\"\n",
    "    future = client.submit(parse_file, fn, pure=False)\n",
    "    length_future = client.submit(len, future)\n",
    "    length = await length_future\n",
    "    \n",
    "    futures = [client.submit(operator.getitem, future, i, priority=10) \n",
    "               for i in range(length)]\n",
    "    futures = client.map(process_item, futures, priority=10)\n",
    "    return futures\n",
    "\n",
    "async def run_all(filenames):\n",
    "    list_of_list_of_futures = await asyncio.gather(*[f(fn) for fn in filenames])\n",
    "    futures = sum(list_of_list_of_futures, [])\n",
    "    return await client.gather(futures)\n"
   ]
  },
  {
   "cell_type": "markdown",
   "metadata": {},
   "source": [
    "We now need to run this function in the same event loop as our client is running.  If we had started our client asynchronously, then we could have done this:\n",
    "\n",
    "```python\n",
    "client = await Client(asynchronous=True)\n",
    "\n",
    "await run_all(filenames)\n",
    "```\n",
    "\n",
    "However, because we started our client without the `asynchronous=True` flag the event loop is actually running in a separate thread, so we'll have to ask the client to run this for us."
   ]
  },
  {
   "cell_type": "code",
   "execution_count": 7,
   "metadata": {
    "execution": {
     "iopub.execute_input": "2021-01-06T10:07:33.558281Z",
     "iopub.status.busy": "2021-01-06T10:07:33.557841Z",
     "iopub.status.idle": "2021-01-06T10:07:35.934953Z",
     "shell.execute_reply": "2021-01-06T10:07:35.934397Z"
    }
   },
   "outputs": [
    {
     "data": {
      "text/plain": [
       "[1.8407762630334292,\n",
       " 1.8368455636999474,\n",
       " 1.9017815160423266,\n",
       " 1.7911599568134144,\n",
       " 1.2993374595451421,\n",
       " 1.5635461421006676,\n",
       " 1.7183337388534348,\n",
       " 1.976519437172708,\n",
       " 1.5332907058620315,\n",
       " 1.2378230794134935,\n",
       " 1.6420221680900355,\n",
       " 1.062918228585508,\n",
       " 1.170305145883864,\n",
       " 1.0411643055711277,\n",
       " 1.6020679454697866,\n",
       " 1.4442425461800723,\n",
       " 1.3517053400050874,\n",
       " 1.9281501272762553,\n",
       " 1.2072130359334143,\n",
       " 1.7214295546482763,\n",
       " 1.88750960288698,\n",
       " 1.3133382070274955,\n",
       " 1.2638980255000911,\n",
       " 1.1630506844724384,\n",
       " 1.3397257302478223,\n",
       " 1.172299621739958,\n",
       " 1.5176249993462754,\n",
       " 1.554173332684881,\n",
       " 1.976728200488397,\n",
       " 1.0814757962699175,\n",
       " 1.3248742275606293,\n",
       " 1.0990409937566172,\n",
       " 1.3934894321846674,\n",
       " 1.6921097492127735,\n",
       " 1.9826223050370497,\n",
       " 1.3419007565002443,\n",
       " 1.4098966459120053,\n",
       " 1.433067559230564,\n",
       " 1.85088451608993,\n",
       " 1.5928544006147392,\n",
       " 1.9122479215788086,\n",
       " 1.3317252584153387,\n",
       " 1.8558007414016773,\n",
       " 1.1954663089555528,\n",
       " 1.280887411837444,\n",
       " 1.8390722051169996,\n",
       " 1.323308223425786,\n",
       " 1.42407568229968,\n",
       " 1.4093350811929253,\n",
       " 1.4111879094938744,\n",
       " 1.6735003583362593,\n",
       " 1.0554761205043952,\n",
       " 1.8860761488256759,\n",
       " 1.1014576797930806,\n",
       " 1.2223598331592764,\n",
       " 1.7132146661665302,\n",
       " 1.6716755263762613,\n",
       " 1.6176961431424255,\n",
       " 1.803672643399831]"
      ]
     },
     "execution_count": 1,
     "metadata": {},
     "output_type": "execute_result"
    }
   ],
   "source": [
    "client.sync(run_all, filenames)"
   ]
  },
  {
   "cell_type": "markdown",
   "metadata": {},
   "source": [
    "3: Submit tasks from tasks\n",
    "--------------------------\n",
    "\n",
    "We can also submit tasks that themselves submit more tasks.  See [documentation here](https://docs.dask.org/en/latest/futures.html#submit-tasks-from-tasks)."
   ]
  },
  {
   "cell_type": "code",
   "execution_count": 8,
   "metadata": {
    "execution": {
     "iopub.execute_input": "2021-01-06T10:07:35.940258Z",
     "iopub.status.busy": "2021-01-06T10:07:35.939810Z",
     "iopub.status.idle": "2021-01-06T10:07:38.344699Z",
     "shell.execute_reply": "2021-01-06T10:07:38.345226Z"
    }
   },
   "outputs": [
    {
     "name": "stdout",
     "output_type": "stream",
     "text": [
      "CPU times: user 202 ms, sys: 18.3 ms, total: 221 ms\n",
      "Wall time: 2.4 s\n"
     ]
    }
   ],
   "source": [
    "%%time\n",
    "\n",
    "from dask.distributed import get_client, secede, rejoin\n",
    "\n",
    "def f(fn):\n",
    "    L = parse_file(fn)\n",
    "    client = get_client()\n",
    "    \n",
    "    futures = client.map(process_item, L, priority=10)\n",
    "    secede()\n",
    "    results = client.gather(futures)\n",
    "    rejoin()\n",
    "    return results\n",
    "\n",
    "futures = client.map(f, filenames, pure=False)\n",
    "results = client.gather(futures)"
   ]
  }
 ],
 "metadata": {
  "kernelspec": {
   "display_name": "Python 3",
   "language": "python",
   "name": "python3"
  },
  "language_info": {
   "codemirror_mode": {
    "name": "ipython",
    "version": 3
   },
   "file_extension": ".py",
   "mimetype": "text/x-python",
   "name": "python",
   "nbconvert_exporter": "python",
   "pygments_lexer": "ipython3",
   "version": "3.8.6"
  }
 },
 "nbformat": 4,
 "nbformat_minor": 4
}
