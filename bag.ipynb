{
 "cells": [
  {
   "cell_type": "markdown",
   "metadata": {},
   "source": [
    "# Dask Bags\n",
    "\n",
    "\n",
    "Dask Bag implements operations like `map`, `filter`, `groupby` and aggregations on collections of Python objects. It does this in parallel and in small memory using Python iterators. It is similar to a parallel version of itertools or a Pythonic version of the PySpark RDD.\n",
    "\n",
    "Dask Bags are often used to do simple preprocessing on log files, JSON records, or other user defined Python objects.\n",
    "\n",
    "Full API documentation is available here: http://docs.dask.org/en/latest/bag-api.html"
   ]
  },
  {
   "cell_type": "markdown",
   "metadata": {},
   "source": [
    "## Start Dask Client for Dashboard\n",
    "\n",
    "Starting the Dask Client is optional.  It will provide a dashboard which \n",
    "is useful to gain insight on the computation.  \n",
    "\n",
    "The link to the dashboard will become visible when you create the client below.  We recommend having it open on one side of your screen while using your notebook on the other side.  This can take some effort to arrange your windows, but seeing them both at the same is very useful when learning."
   ]
  },
  {
   "cell_type": "code",
   "execution_count": 1,
   "metadata": {
    "execution": {
     "iopub.execute_input": "2021-01-06T10:19:49.944003Z",
     "iopub.status.busy": "2021-01-06T10:19:49.943545Z",
     "iopub.status.idle": "2021-01-06T10:19:51.810181Z",
     "shell.execute_reply": "2021-01-06T10:19:51.809570Z"
    }
   },
   "outputs": [
    {
     "data": {
      "text/html": [
       "<table style=\"border: 2px solid white;\">\n",
       "<tr>\n",
       "<td style=\"vertical-align: top; border: 0px solid white\">\n",
       "<h3 style=\"text-align: left;\">Client</h3>\n",
       "<ul style=\"text-align: left; list-style: none; margin: 0; padding: 0;\">\n",
       "  <li><b>Scheduler: </b>tcp://127.0.0.1:33125</li>\n",
       "  <li><b>Dashboard: </b><a href='http://127.0.0.1:8787/status' target='_blank'>http://127.0.0.1:8787/status</a></li>\n",
       "</ul>\n",
       "</td>\n",
       "<td style=\"vertical-align: top; border: 0px solid white\">\n",
       "<h3 style=\"text-align: left;\">Cluster</h3>\n",
       "<ul style=\"text-align: left; list-style:none; margin: 0; padding: 0;\">\n",
       "  <li><b>Workers: </b>4</li>\n",
       "  <li><b>Cores: </b>4</li>\n",
       "  <li><b>Memory: </b>7.29 GB</li>\n",
       "</ul>\n",
       "</td>\n",
       "</tr>\n",
       "</table>"
      ],
      "text/plain": [
       "<Client: 'tcp://127.0.0.1:33125' processes=4 threads=4, memory=7.29 GB>"
      ]
     },
     "execution_count": 1,
     "metadata": {},
     "output_type": "execute_result"
    }
   ],
   "source": [
    "from dask.distributed import Client, progress\n",
    "client = Client(n_workers=4, threads_per_worker=1)\n",
    "client"
   ]
  },
  {
   "cell_type": "markdown",
   "metadata": {},
   "source": [
    "## Create Random Data\n",
    "\n",
    "We create a random set of record data and store it to disk as many JSON files.  This will serve as our data for this notebook."
   ]
  },
  {
   "cell_type": "code",
   "execution_count": 2,
   "metadata": {
    "execution": {
     "iopub.execute_input": "2021-01-06T10:19:51.815057Z",
     "iopub.status.busy": "2021-01-06T10:19:51.814513Z",
     "iopub.status.idle": "2021-01-06T10:19:52.644592Z",
     "shell.execute_reply": "2021-01-06T10:19:52.644046Z"
    }
   },
   "outputs": [
    {
     "data": {
      "text/plain": [
       "['/home/runner/work/dask-examples/dask-examples/data/0.json',\n",
       " '/home/runner/work/dask-examples/dask-examples/data/1.json',\n",
       " '/home/runner/work/dask-examples/dask-examples/data/2.json',\n",
       " '/home/runner/work/dask-examples/dask-examples/data/3.json',\n",
       " '/home/runner/work/dask-examples/dask-examples/data/4.json',\n",
       " '/home/runner/work/dask-examples/dask-examples/data/5.json',\n",
       " '/home/runner/work/dask-examples/dask-examples/data/6.json',\n",
       " '/home/runner/work/dask-examples/dask-examples/data/7.json',\n",
       " '/home/runner/work/dask-examples/dask-examples/data/8.json',\n",
       " '/home/runner/work/dask-examples/dask-examples/data/9.json']"
      ]
     },
     "execution_count": 1,
     "metadata": {},
     "output_type": "execute_result"
    }
   ],
   "source": [
    "import dask\n",
    "import json\n",
    "import os\n",
    "\n",
    "os.makedirs('data', exist_ok=True)              # Create data/ directory\n",
    "\n",
    "b = dask.datasets.make_people()                 # Make records of people\n",
    "b.map(json.dumps).to_textfiles('data/*.json')   # Encode as JSON, write to disk"
   ]
  },
  {
   "cell_type": "markdown",
   "metadata": {},
   "source": [
    "## Read JSON data\n",
    "\n",
    "Now that we have some JSON data in a file lets take a look at it with Dask Bag and Python JSON module."
   ]
  },
  {
   "cell_type": "code",
   "execution_count": 3,
   "metadata": {
    "execution": {
     "iopub.execute_input": "2021-01-06T10:19:52.648622Z",
     "iopub.status.busy": "2021-01-06T10:19:52.648167Z",
     "iopub.status.idle": "2021-01-06T10:19:52.804257Z",
     "shell.execute_reply": "2021-01-06T10:19:52.804680Z"
    }
   },
   "outputs": [
    {
     "name": "stdout",
     "output_type": "stream",
     "text": [
      "{\"age\": 58, \"name\": [\"Edda\", \"Molina\"], \"occupation\": \"Civil Engineer\", \"telephone\": \"631-293-1538\", \"address\": {\"address\": \"1351 Ames Esplanade\", \"city\": \"Port Arthur\"}, \"credit-card\": {\"number\": \"3429 150501 48515\", \"expiration-date\": \"02/25\"}}\r\n",
      "{\"age\": 57, \"name\": [\"Agueda\", \"Gordon\"], \"occupation\": \"Moneylender\", \"telephone\": \"419-901-3125\", \"address\": {\"address\": \"216 Nantucket Avenue\", \"city\": \"Ridgewood\"}, \"credit-card\": {\"number\": \"4395 4910 5474 7635\", \"expiration-date\": \"08/18\"}}\r\n"
     ]
    }
   ],
   "source": [
    "!head -n 2 data/0.json"
   ]
  },
  {
   "cell_type": "code",
   "execution_count": 4,
   "metadata": {
    "execution": {
     "iopub.execute_input": "2021-01-06T10:19:52.809583Z",
     "iopub.status.busy": "2021-01-06T10:19:52.809113Z",
     "iopub.status.idle": "2021-01-06T10:19:52.816799Z",
     "shell.execute_reply": "2021-01-06T10:19:52.816369Z"
    }
   },
   "outputs": [
    {
     "data": {
      "text/plain": [
       "dask.bag<loads, npartitions=10>"
      ]
     },
     "execution_count": 1,
     "metadata": {},
     "output_type": "execute_result"
    }
   ],
   "source": [
    "import dask.bag as db\n",
    "import json\n",
    "\n",
    "b = db.read_text('data/*.json').map(json.loads)\n",
    "b"
   ]
  },
  {
   "cell_type": "code",
   "execution_count": 5,
   "metadata": {
    "execution": {
     "iopub.execute_input": "2021-01-06T10:19:52.821421Z",
     "iopub.status.busy": "2021-01-06T10:19:52.820634Z",
     "iopub.status.idle": "2021-01-06T10:19:52.840292Z",
     "shell.execute_reply": "2021-01-06T10:19:52.839214Z"
    }
   },
   "outputs": [
    {
     "data": {
      "text/plain": [
       "({'age': 58,\n",
       "  'name': ['Edda', 'Molina'],\n",
       "  'occupation': 'Civil Engineer',\n",
       "  'telephone': '631-293-1538',\n",
       "  'address': {'address': '1351 Ames Esplanade', 'city': 'Port Arthur'},\n",
       "  'credit-card': {'number': '3429 150501 48515', 'expiration-date': '02/25'}},\n",
       " {'age': 57,\n",
       "  'name': ['Agueda', 'Gordon'],\n",
       "  'occupation': 'Moneylender',\n",
       "  'telephone': '419-901-3125',\n",
       "  'address': {'address': '216 Nantucket Avenue', 'city': 'Ridgewood'},\n",
       "  'credit-card': {'number': '4395 4910 5474 7635',\n",
       "   'expiration-date': '08/18'}})"
      ]
     },
     "execution_count": 1,
     "metadata": {},
     "output_type": "execute_result"
    }
   ],
   "source": [
    "b.take(2)"
   ]
  },
  {
   "cell_type": "markdown",
   "metadata": {},
   "source": [
    "## Map, Filter, Aggregate\n",
    "\n",
    "We can process this data by filtering out only certain records of interest, mapping functions over it to process our data, and aggregating those results to a total value."
   ]
  },
  {
   "cell_type": "code",
   "execution_count": 6,
   "metadata": {
    "execution": {
     "iopub.execute_input": "2021-01-06T10:19:52.845080Z",
     "iopub.status.busy": "2021-01-06T10:19:52.844617Z",
     "iopub.status.idle": "2021-01-06T10:19:52.861619Z",
     "shell.execute_reply": "2021-01-06T10:19:52.861107Z"
    }
   },
   "outputs": [
    {
     "data": {
      "text/plain": [
       "({'age': 58,\n",
       "  'name': ['Edda', 'Molina'],\n",
       "  'occupation': 'Civil Engineer',\n",
       "  'telephone': '631-293-1538',\n",
       "  'address': {'address': '1351 Ames Esplanade', 'city': 'Port Arthur'},\n",
       "  'credit-card': {'number': '3429 150501 48515', 'expiration-date': '02/25'}},\n",
       " {'age': 57,\n",
       "  'name': ['Agueda', 'Gordon'],\n",
       "  'occupation': 'Moneylender',\n",
       "  'telephone': '419-901-3125',\n",
       "  'address': {'address': '216 Nantucket Avenue', 'city': 'Ridgewood'},\n",
       "  'credit-card': {'number': '4395 4910 5474 7635',\n",
       "   'expiration-date': '08/18'}})"
      ]
     },
     "execution_count": 1,
     "metadata": {},
     "output_type": "execute_result"
    }
   ],
   "source": [
    "b.filter(lambda record: record['age'] > 30).take(2)  # Select only people over 30"
   ]
  },
  {
   "cell_type": "code",
   "execution_count": 7,
   "metadata": {
    "execution": {
     "iopub.execute_input": "2021-01-06T10:19:52.867166Z",
     "iopub.status.busy": "2021-01-06T10:19:52.866366Z",
     "iopub.status.idle": "2021-01-06T10:19:52.882110Z",
     "shell.execute_reply": "2021-01-06T10:19:52.881491Z"
    }
   },
   "outputs": [
    {
     "data": {
      "text/plain": [
       "('Civil Engineer', 'Moneylender')"
      ]
     },
     "execution_count": 1,
     "metadata": {},
     "output_type": "execute_result"
    }
   ],
   "source": [
    "b.map(lambda record: record['occupation']).take(2)  # Select the occupation field"
   ]
  },
  {
   "cell_type": "code",
   "execution_count": 8,
   "metadata": {
    "execution": {
     "iopub.execute_input": "2021-01-06T10:19:52.887942Z",
     "iopub.status.busy": "2021-01-06T10:19:52.887440Z",
     "iopub.status.idle": "2021-01-06T10:19:52.978899Z",
     "shell.execute_reply": "2021-01-06T10:19:52.978245Z"
    }
   },
   "outputs": [
    {
     "data": {
      "text/plain": [
       "10000"
      ]
     },
     "execution_count": 1,
     "metadata": {},
     "output_type": "execute_result"
    }
   ],
   "source": [
    "b.count().compute()  # Count total number of records"
   ]
  },
  {
   "cell_type": "markdown",
   "metadata": {},
   "source": [
    "## Chain computations\n",
    "\n",
    "It is common to do many of these steps in one pipeline, only calling `compute` or `take` at the end."
   ]
  },
  {
   "cell_type": "code",
   "execution_count": 9,
   "metadata": {
    "execution": {
     "iopub.execute_input": "2021-01-06T10:19:52.984031Z",
     "iopub.status.busy": "2021-01-06T10:19:52.983510Z",
     "iopub.status.idle": "2021-01-06T10:19:52.985430Z",
     "shell.execute_reply": "2021-01-06T10:19:52.986141Z"
    }
   },
   "outputs": [
    {
     "data": {
      "text/plain": [
       "dask.bag<topk-aggregate, npartitions=1>"
      ]
     },
     "execution_count": 1,
     "metadata": {},
     "output_type": "execute_result"
    }
   ],
   "source": [
    "result = (b.filter(lambda record: record['age'] > 30)\n",
    "           .map(lambda record: record['occupation'])\n",
    "           .frequencies(sort=True)\n",
    "           .topk(10, key=1))\n",
    "result"
   ]
  },
  {
   "cell_type": "markdown",
   "metadata": {},
   "source": [
    "As with all lazy Dask collections, we need to call `compute` to actually evaluate our result.  The `take` method used in earlier examples is also like `compute` and will also trigger computation."
   ]
  },
  {
   "cell_type": "code",
   "execution_count": 10,
   "metadata": {
    "execution": {
     "iopub.execute_input": "2021-01-06T10:19:52.991766Z",
     "iopub.status.busy": "2021-01-06T10:19:52.990912Z",
     "iopub.status.idle": "2021-01-06T10:19:53.098345Z",
     "shell.execute_reply": "2021-01-06T10:19:53.097807Z"
    }
   },
   "outputs": [
    {
     "data": {
      "text/plain": [
       "[('Building Manager', 18),\n",
       " ('Software Engineer', 14),\n",
       " ('Health Therapist', 14),\n",
       " ('Operations', 14),\n",
       " ('Chambermaid', 14),\n",
       " ('Hearing Therapist', 14),\n",
       " ('Furniture Restorer', 13),\n",
       " ('Rigger', 13),\n",
       " ('Commissioned', 13),\n",
       " ('Market Trader', 13)]"
      ]
     },
     "execution_count": 1,
     "metadata": {},
     "output_type": "execute_result"
    }
   ],
   "source": [
    "result.compute()"
   ]
  },
  {
   "cell_type": "markdown",
   "metadata": {},
   "source": [
    "## Transform and Store\n",
    "\n",
    "Sometimes we want to compute aggregations as above, but sometimes we want to store results to disk for future analyses.  For that we can use methods like `to_textfiles` and `json.dumps`, or we can convert to Dask Dataframes and use their storage systems, which we'll see more of in the next section."
   ]
  },
  {
   "cell_type": "code",
   "execution_count": 11,
   "metadata": {
    "execution": {
     "iopub.execute_input": "2021-01-06T10:19:53.104454Z",
     "iopub.status.busy": "2021-01-06T10:19:53.102088Z",
     "iopub.status.idle": "2021-01-06T10:19:53.212130Z",
     "shell.execute_reply": "2021-01-06T10:19:53.211328Z"
    }
   },
   "outputs": [
    {
     "data": {
      "text/plain": [
       "['/home/runner/work/dask-examples/dask-examples/data/processed.0.json',\n",
       " '/home/runner/work/dask-examples/dask-examples/data/processed.1.json',\n",
       " '/home/runner/work/dask-examples/dask-examples/data/processed.2.json',\n",
       " '/home/runner/work/dask-examples/dask-examples/data/processed.3.json',\n",
       " '/home/runner/work/dask-examples/dask-examples/data/processed.4.json',\n",
       " '/home/runner/work/dask-examples/dask-examples/data/processed.5.json',\n",
       " '/home/runner/work/dask-examples/dask-examples/data/processed.6.json',\n",
       " '/home/runner/work/dask-examples/dask-examples/data/processed.7.json',\n",
       " '/home/runner/work/dask-examples/dask-examples/data/processed.8.json',\n",
       " '/home/runner/work/dask-examples/dask-examples/data/processed.9.json']"
      ]
     },
     "execution_count": 1,
     "metadata": {},
     "output_type": "execute_result"
    }
   ],
   "source": [
    "(b.filter(lambda record: record['age'] > 30)  # Select records of interest\n",
    "  .map(json.dumps)                            # Convert Python objects to text\n",
    "  .to_textfiles('data/processed.*.json'))     # Write to local disk"
   ]
  },
  {
   "cell_type": "markdown",
   "metadata": {},
   "source": [
    "## Convert to Dask Dataframes\n",
    "\n",
    "Dask Bags are good for reading in initial data, doing a bit of pre-processing, and then handing off to some other more efficient form like Dask Dataframes.  Dask Dataframes use Pandas internally, and so can be much faster on numeric data and also have more complex algorithms.  \n",
    "\n",
    "However, Dask Dataframes also expect data that is organized as flat columns.  It does not support nested JSON data very well (Bag is better for this).\n",
    "\n",
    "Here we make a function to flatten down our nested data structure, map that across our records, and then convert that to a Dask Dataframe."
   ]
  },
  {
   "cell_type": "code",
   "execution_count": 12,
   "metadata": {
    "execution": {
     "iopub.execute_input": "2021-01-06T10:19:53.216757Z",
     "iopub.status.busy": "2021-01-06T10:19:53.216303Z",
     "iopub.status.idle": "2021-01-06T10:19:53.233748Z",
     "shell.execute_reply": "2021-01-06T10:19:53.234232Z"
    }
   },
   "outputs": [
    {
     "data": {
      "text/plain": [
       "({'age': 58,\n",
       "  'name': ['Edda', 'Molina'],\n",
       "  'occupation': 'Civil Engineer',\n",
       "  'telephone': '631-293-1538',\n",
       "  'address': {'address': '1351 Ames Esplanade', 'city': 'Port Arthur'},\n",
       "  'credit-card': {'number': '3429 150501 48515', 'expiration-date': '02/25'}},)"
      ]
     },
     "execution_count": 1,
     "metadata": {},
     "output_type": "execute_result"
    }
   ],
   "source": [
    "b.take(1)"
   ]
  },
  {
   "cell_type": "code",
   "execution_count": 13,
   "metadata": {
    "execution": {
     "iopub.execute_input": "2021-01-06T10:19:53.240480Z",
     "iopub.status.busy": "2021-01-06T10:19:53.239754Z",
     "iopub.status.idle": "2021-01-06T10:19:53.257507Z",
     "shell.execute_reply": "2021-01-06T10:19:53.256643Z"
    }
   },
   "outputs": [
    {
     "data": {
      "text/plain": [
       "({'age': 58,\n",
       "  'occupation': 'Civil Engineer',\n",
       "  'telephone': '631-293-1538',\n",
       "  'credit-card-number': '3429 150501 48515',\n",
       "  'credit-card-expiration': '02/25',\n",
       "  'name': 'Edda Molina',\n",
       "  'street-address': '1351 Ames Esplanade',\n",
       "  'city': 'Port Arthur'},)"
      ]
     },
     "execution_count": 1,
     "metadata": {},
     "output_type": "execute_result"
    }
   ],
   "source": [
    "def flatten(record):\n",
    "    return {\n",
    "        'age': record['age'],\n",
    "        'occupation': record['occupation'],\n",
    "        'telephone': record['telephone'],\n",
    "        'credit-card-number': record['credit-card']['number'],\n",
    "        'credit-card-expiration': record['credit-card']['expiration-date'],\n",
    "        'name': ' '.join(record['name']),\n",
    "        'street-address': record['address']['address'],\n",
    "        'city': record['address']['city']   \n",
    "    }\n",
    "\n",
    "b.map(flatten).take(1)"
   ]
  },
  {
   "cell_type": "code",
   "execution_count": 14,
   "metadata": {
    "execution": {
     "iopub.execute_input": "2021-01-06T10:19:53.265812Z",
     "iopub.status.busy": "2021-01-06T10:19:53.260496Z",
     "iopub.status.idle": "2021-01-06T10:19:53.818317Z",
     "shell.execute_reply": "2021-01-06T10:19:53.819150Z"
    }
   },
   "outputs": [
    {
     "data": {
      "text/html": [
       "<div>\n",
       "<style scoped>\n",
       "    .dataframe tbody tr th:only-of-type {\n",
       "        vertical-align: middle;\n",
       "    }\n",
       "\n",
       "    .dataframe tbody tr th {\n",
       "        vertical-align: top;\n",
       "    }\n",
       "\n",
       "    .dataframe thead th {\n",
       "        text-align: right;\n",
       "    }\n",
       "</style>\n",
       "<table border=\"1\" class=\"dataframe\">\n",
       "  <thead>\n",
       "    <tr style=\"text-align: right;\">\n",
       "      <th></th>\n",
       "      <th>age</th>\n",
       "      <th>occupation</th>\n",
       "      <th>telephone</th>\n",
       "      <th>credit-card-number</th>\n",
       "      <th>credit-card-expiration</th>\n",
       "      <th>name</th>\n",
       "      <th>street-address</th>\n",
       "      <th>city</th>\n",
       "    </tr>\n",
       "  </thead>\n",
       "  <tbody>\n",
       "    <tr>\n",
       "      <th>0</th>\n",
       "      <td>58</td>\n",
       "      <td>Civil Engineer</td>\n",
       "      <td>631-293-1538</td>\n",
       "      <td>3429 150501 48515</td>\n",
       "      <td>02/25</td>\n",
       "      <td>Edda Molina</td>\n",
       "      <td>1351 Ames Esplanade</td>\n",
       "      <td>Port Arthur</td>\n",
       "    </tr>\n",
       "    <tr>\n",
       "      <th>1</th>\n",
       "      <td>57</td>\n",
       "      <td>Moneylender</td>\n",
       "      <td>419-901-3125</td>\n",
       "      <td>4395 4910 5474 7635</td>\n",
       "      <td>08/18</td>\n",
       "      <td>Agueda Gordon</td>\n",
       "      <td>216 Nantucket Avenue</td>\n",
       "      <td>Ridgewood</td>\n",
       "    </tr>\n",
       "    <tr>\n",
       "      <th>2</th>\n",
       "      <td>55</td>\n",
       "      <td>Ground Worker</td>\n",
       "      <td>(008) 838-4282</td>\n",
       "      <td>2232 2592 8389 3228</td>\n",
       "      <td>01/21</td>\n",
       "      <td>Floretta Orr</td>\n",
       "      <td>735 Blackstone Cove</td>\n",
       "      <td>Greeley</td>\n",
       "    </tr>\n",
       "    <tr>\n",
       "      <th>3</th>\n",
       "      <td>26</td>\n",
       "      <td>Administration Manager</td>\n",
       "      <td>909-721-0366</td>\n",
       "      <td>5141 0152 6633 5428</td>\n",
       "      <td>09/17</td>\n",
       "      <td>Librada Merrill</td>\n",
       "      <td>1119 Montana Crescent</td>\n",
       "      <td>Carteret</td>\n",
       "    </tr>\n",
       "    <tr>\n",
       "      <th>4</th>\n",
       "      <td>44</td>\n",
       "      <td>Quality Controller</td>\n",
       "      <td>470.983.0830</td>\n",
       "      <td>4620 0500 1431 2141</td>\n",
       "      <td>06/22</td>\n",
       "      <td>Luanna Evans</td>\n",
       "      <td>1163 Kent Private</td>\n",
       "      <td>Spanish Fork</td>\n",
       "    </tr>\n",
       "  </tbody>\n",
       "</table>\n",
       "</div>"
      ],
      "text/plain": [
       "   age              occupation       telephone   credit-card-number  \\\n",
       "0   58          Civil Engineer    631-293-1538    3429 150501 48515   \n",
       "1   57             Moneylender    419-901-3125  4395 4910 5474 7635   \n",
       "2   55           Ground Worker  (008) 838-4282  2232 2592 8389 3228   \n",
       "3   26  Administration Manager    909-721-0366  5141 0152 6633 5428   \n",
       "4   44      Quality Controller    470.983.0830  4620 0500 1431 2141   \n",
       "\n",
       "  credit-card-expiration             name         street-address          city  \n",
       "0                  02/25      Edda Molina    1351 Ames Esplanade   Port Arthur  \n",
       "1                  08/18    Agueda Gordon   216 Nantucket Avenue     Ridgewood  \n",
       "2                  01/21     Floretta Orr    735 Blackstone Cove       Greeley  \n",
       "3                  09/17  Librada Merrill  1119 Montana Crescent      Carteret  \n",
       "4                  06/22     Luanna Evans      1163 Kent Private  Spanish Fork  "
      ]
     },
     "execution_count": 1,
     "metadata": {},
     "output_type": "execute_result"
    }
   ],
   "source": [
    "df = b.map(flatten).to_dataframe()\n",
    "df.head()"
   ]
  },
  {
   "cell_type": "markdown",
   "metadata": {},
   "source": [
    "We can now perform the same computation as before, but now using Pandas and Dask dataframe."
   ]
  },
  {
   "cell_type": "code",
   "execution_count": 15,
   "metadata": {
    "execution": {
     "iopub.execute_input": "2021-01-06T10:19:53.834037Z",
     "iopub.status.busy": "2021-01-06T10:19:53.833564Z",
     "iopub.status.idle": "2021-01-06T10:19:54.485590Z",
     "shell.execute_reply": "2021-01-06T10:19:54.485035Z"
    }
   },
   "outputs": [
    {
     "data": {
      "text/plain": [
       "Building Manager     18\n",
       "Hearing Therapist    14\n",
       "Software Engineer    14\n",
       "Health Therapist     14\n",
       "Operations           14\n",
       "Chambermaid          14\n",
       "Baggage Handler      13\n",
       "Commissioned         13\n",
       "Playgroup Leader     13\n",
       "Chiropractor         13\n",
       "Name: occupation, dtype: int64"
      ]
     },
     "execution_count": 1,
     "metadata": {},
     "output_type": "execute_result"
    }
   ],
   "source": [
    "df[df.age > 30].occupation.value_counts().nlargest(10).compute()"
   ]
  },
  {
   "cell_type": "markdown",
   "metadata": {},
   "source": [
    "## Learn More\n",
    "\n",
    "You may be interested in the following links:\n",
    "\n",
    "-  [Dask Bag Documentation](https://docs.dask.org/en/latest/bag.html)\n",
    "-  [API Documentation](http://docs.dask.org/en/latest/bag-api.html)\n",
    "-  [dask tutorial](https://github.com/dask/dask-tutorial), notebook 02, for a more in-depth introduction."
   ]
  }
 ],
 "metadata": {
  "kernelspec": {
   "display_name": "Python 3",
   "language": "python",
   "name": "python3"
  },
  "language_info": {
   "codemirror_mode": {
    "name": "ipython",
    "version": 3
   },
   "file_extension": ".py",
   "mimetype": "text/x-python",
   "name": "python",
   "nbconvert_exporter": "python",
   "pygments_lexer": "ipython3",
   "version": "3.8.6"
  }
 },
 "nbformat": 4,
 "nbformat_minor": 2
}
